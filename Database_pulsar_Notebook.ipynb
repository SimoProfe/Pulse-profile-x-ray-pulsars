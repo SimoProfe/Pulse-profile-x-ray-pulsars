{
 "cells": [
  {
   "cell_type": "markdown",
   "id": "fbad3a92-94e5-4baa-a828-ebde580962f8",
   "metadata": {
    "jp-MarkdownHeadingCollapsed": true
   },
   "source": [
    "# Database generator for pulse profiles in X-ray emitting pulsars:\n",
    "\n",
    "    This notebook will define all the functions describing an x-ray emitting pulsar, considering a hotspot on the surface. The hotspot will be only one, and it will be located with respect to the rotation axis. The angle between the rotation inclination and the hotspot will be adressed in order to locate the hotspot in an efficient way. Then the beam pattern emission is defined, dependent on 3 parameters, and interpolate with the intrinsic angles of the hotspot in order to find which pulse profile is seen.\n",
    "    \n",
    "    Once all of this is done, the code will collect the data for different combination of parameters, saving the parameters and the linked pulse profile in a list of dictionaries. This list will then be converted into a dataframe with pandas and saved into a Parquet file.\n",
    "\n",
    "    Then an example of reading the data and using them is given to the reader, in order to understand better how to handle the data."
   ]
  },
  {
   "cell_type": "code",
   "execution_count": 60,
   "id": "1ffc775f-48b5-4ff6-816d-6566a5e82b42",
   "metadata": {},
   "outputs": [],
   "source": [
    "import numpy as np\n",
    "from scipy.interpolate import interp2d\n",
    "import os\n",
    "from concurrent.futures import ProcessPoolExecutor\n",
    "import pandas as pd\n",
    "import time\n",
    "import matplotlib.pyplot as plt"
   ]
  },
  {
   "cell_type": "markdown",
   "id": "0ee5eea4-1829-4bd9-b0ac-8b9b41f76f1f",
   "metadata": {},
   "source": [
    "Now I imported everything I will use later on, be careful to install all that is needed for this code to run properly"
   ]
  },
  {
   "cell_type": "markdown",
   "id": "d3b4fd62-4819-47ff-9c68-edf110ab7d65",
   "metadata": {
    "jp-MarkdownHeadingCollapsed": true
   },
   "source": [
    "## Define the physical functions of the setting"
   ]
  },
  {
   "cell_type": "markdown",
   "id": "2a2e102b-8fda-4a6d-927a-2d92d1412040",
   "metadata": {},
   "source": [
    "These two functions are simply used to change coordinates in the future"
   ]
  },
  {
   "cell_type": "code",
   "execution_count": 61,
   "id": "71aa648f-2c9e-4e20-8ae5-d03447e94841",
   "metadata": {},
   "outputs": [],
   "source": [
    "def cart2sph(x, y, z):\n",
    "    xy = np.sqrt(x ** 2 + y ** 2)\n",
    "\n",
    "    r = np.sqrt(x ** 2 + y ** 2 + z ** 2)\n",
    "    phi = np.arctan2(y, x)\n",
    "    theta = np.arctan2(xy, z)\n",
    "\n",
    "    return r, theta, phi\n",
    "\n",
    "\n",
    "def sph2cart(r, theta, phi):\n",
    "    X = r * np.sin(theta) * np.cos(phi)\n",
    "    Y = r * np.sin(theta) * np.sin(phi)\n",
    "    Z = r * np.cos(theta)\n",
    "    return X, Y, Z"
   ]
  },
  {
   "cell_type": "markdown",
   "id": "fbde013f-4833-461b-94a9-54de3e3b9408",
   "metadata": {},
   "source": [
    "With the following function I locate the hotspot on the surface of the pulsar. There are different possible positions of the hotspot that form a circle\n",
    "around the rotation axis, the *Rotation.from_rotvec* function takes care of it:"
   ]
  },
  {
   "cell_type": "code",
   "execution_count": 62,
   "id": "d8f99ae3-1616-405d-a9d3-5895810ea8e2",
   "metadata": {},
   "outputs": [],
   "source": [
    "def hotspotXYZ(RotationInclination, RotationAzimut, MagnColatitude, npoints, shift=0):\n",
    "    \n",
    "    \"\"\"This function defines the position of the hotspot.\n",
    "\n",
    "        Parameters:\n",
    "            ----------\n",
    "            RotationInclination: how much is the rotation axis inclined in deg\n",
    "\n",
    "            RotationAzimuth: the azimuthal angle that defines the rotation axis in deg\n",
    "\n",
    "            MagnColatitude: Angular position of the hotspot with respect to the rotation axis point, in deg.\n",
    "            E.g. if between the rotational vector and the vector from the center of the sphere and the hotspot there is an angle of 30°,\n",
    "            this will be the MagneticColatitude\n",
    "\n",
    "            npoints: The number of points where the hotspot can lay around the rotational axis, it will be the same as the dimension as the decomposition values (32)\n",
    "\n",
    "            shift: The phase shift due to a different angle of observation of the system, will give the same pattern but shifted, in rad\n",
    "\n",
    "        Returns:\n",
    "            ----------------\n",
    "            hotspot:\n",
    "                position of the points where the hotspot can be around the rotation axis (list of arrays)\n",
    "\n",
    "            \"\"\"\n",
    "    \n",
    "    from numpy.linalg import norm\n",
    "    from scipy.spatial.transform import Rotation\n",
    "    ##  We first locate the rotation axis creating the point on the sphere defined by the given angles  ##\n",
    "\n",
    "    altitude = np.deg2rad(90 - RotationInclination)  # inclination 0-90 deg, from the horizon up\n",
    "    azimuth = np.deg2rad(RotationAzimut)  # 0-2*pi, around a circle on the horizon\n",
    "    rotax = sph2cart(1, altitude, azimuth)  # in cartesian coordinates\n",
    "    rotax = rotax / norm(rotax)  # normalized\n",
    "\n",
    "    ## --- Location of the hotspot --- ###\n",
    "    HotspotAltitude = altitude + np.deg2rad(\n",
    "        MagnColatitude)  # inclination 0-90 deg, from the horizon up, defined with respect to the altitude of the rotational angle\n",
    "    HotspotAzimuth = azimuth  # 0-2*pi, around a circle on the horizon\n",
    "\n",
    "    hotspot = sph2cart(1, HotspotAltitude, HotspotAzimuth)  # Locating the hotspot in cartesian coordinates\n",
    "    hotspot = hotspot / norm(hotspot)  # Normalization of the vector to fit in the sphere of radius 1\n",
    "\n",
    "    ## --- Rotation of the hotspot around the rotation axis --- ###\n",
    "    phirot = np.linspace(0 + shift, 2 * np.pi + shift,\n",
    "                         npoints).tolist()  # We create an array of equispaced angles based on the defined shift\n",
    "    rot = [Rotation.from_rotvec(x * rotax) for x in\n",
    "           phirot]  # Rotation.from_rotvec defines the parameters for a rotation around a point\n",
    "\n",
    "    hotspot = [x.apply(hotspot) for x in\n",
    "               rot]  # Creates different possible hotspots around the rotation axis, applying the rotation with x.apply(),\n",
    "    # using hotspot we have the rotation based on the MagnColatitude, all the vectors defining this rotation will have a MagnColatitude angle with respect to the rotation axis\n",
    "    return hotspot"
   ]
  },
  {
   "cell_type": "markdown",
   "id": "27a65502-3a18-4c96-a292-9450e603f78f",
   "metadata": {},
   "source": [
    "This function is simply used to take into account the gravitational light bending due to general relativity, in order to correlate the observed angles with the intrinsic ones:"
   ]
  },
  {
   "cell_type": "code",
   "execution_count": 63,
   "id": "ed268103-1c59-4e3e-83dd-2850907bab29",
   "metadata": {},
   "outputs": [],
   "source": [
    "def GravitationalLightBending(psi):\n",
    "    \"\"\" Defines all the parameters needed for light bending using general relativity, and then returns the angle the observer sees\n",
    "\n",
    "    Parameters:\n",
    "        ------------\n",
    "    psi: angle observed due to light bending (float)\n",
    "\n",
    "    Returns:\n",
    "        ------------\n",
    "        alpha: actual angle of emission (float)\n",
    "\n",
    "    Notes:\n",
    "        See Beloborodov 2002 Equation 1 for futher information\n",
    "\n",
    "        \"\"\"\n",
    "    G = 6.67e-8  # cm3 g−1 s−2\n",
    "    M = 1.98847e33  # g\n",
    "    mNS = 1.4  # in solar masses (M)\n",
    "    lsc = 2.99792458e10  # cm/s\n",
    "    rg = 2 * G * mNS * M / lsc ** 2 * 1e-5  # km\n",
    "    r = 3 * rg  # 3*rg = 12; 10 # km   # 2/0.19 rg = 43.5 km\n",
    "\n",
    "    alpha = np.arccos(\n",
    "        1 - (1 - np.cos(psi)) * (1 - rg / r))  # Beloborodov 2002 Equation 1; psi in B02 = beta for me; alpha = alpha\n",
    "\n",
    "    return alpha\n",
    "\n"
   ]
  },
  {
   "cell_type": "markdown",
   "id": "2ae5ca84-4813-40f7-82f4-bee56a01c3df",
   "metadata": {},
   "source": [
    "With the functions and the position of the hotspot defined before we are able to find the angles that describe the hotspot. The *GravitationalLightBending* is applied in order to take into account general relativity:"
   ]
  },
  {
   "cell_type": "code",
   "execution_count": 64,
   "id": "33fb9b0c-f2dc-4a93-97be-f00b8aab958f",
   "metadata": {},
   "outputs": [],
   "source": [
    "def intrinsicAngles(hotspotLoc):\n",
    "    \"\"\"Transforms the observed angles, defined with the function hotspotXYZ, into\n",
    "     the intrinsic angles, taking into account the gravitational light bending\n",
    "\n",
    "\n",
    "     Parameters:\n",
    "        -----------\n",
    "        hotspotLoc: Location of the hotspot, list of arrays defining the angles of the positions of the hotspot around the rotation axis (list of arrays)\n",
    "\n",
    "     Returns:\n",
    "        ------------\n",
    "        hotspotTheta: list of the possible observed azimuthal angles of the hotspot (list)\n",
    "\n",
    "        hotspotPhi: list of the possible observed inclination angles of the hotspot (list)\n",
    "\n",
    "        intrinsicTheta: possible intrinsic azimuthal angles of the hotspot, aster taking into account gravitational light bending (list)\n",
    "\n",
    "        intrinsicPhi: possible intrinsic inclination angles of the hotspot, aster taking into account gravitational light bending (list)\n",
    "\n",
    "     \"\"\"\n",
    "    hotspotTheta = [np.pi / 2 - cart2sph(*loc)[1] for loc in\n",
    "                    hotspotLoc]  # Get the azimuthal angles from the location of the hotspots\n",
    "    hotspotPhi = [cart2sph(*loc)[2] for loc in\n",
    "                  hotspotLoc]  # Get the inclination angles from the location of the hotspots\n",
    "\n",
    "    intrinsicTheta = GravitationalLightBending(hotspotTheta)  # Transforming theta with the gravitational bending\n",
    "    intrinsicTheta = np.nan_to_num(intrinsicTheta, nan=np.pi)\n",
    "    intrinsicTheta = np.where(np.array(hotspotTheta) < 0, -intrinsicTheta,\n",
    "                              intrinsicTheta)  # need this because of geometrical symmetries that are not part of the equation in GravitationalLightBending\n",
    "\n",
    "    intrinsicPhi = GravitationalLightBending(hotspotPhi)  # Transform phi with the gravitational light bending\n",
    "    intrinsicPhi = np.nan_to_num(intrinsicPhi, nan=np.pi)\n",
    "    intrinsicPhi = np.where(np.array(hotspotPhi) < 0, -intrinsicPhi,\n",
    "                            intrinsicPhi)  # need this because of geometrical symmetries that are not part of the equation in GravitationalLightBending\n",
    "\n",
    "    return hotspotTheta, hotspotPhi, intrinsicTheta, intrinsicPhi"
   ]
  },
  {
   "cell_type": "markdown",
   "id": "c8568aab-56b7-44e9-819d-f44119853376",
   "metadata": {},
   "source": [
    "The function *defBeampattern* is very important because it defines the beam pattern, that is the beam emitted from the hotspot. This is defined by\n",
    "three parameters. An **inclination angle**, an **azimuthal angle** (both defined with respect to the normal to the surface of the hotspot),\n",
    "and the **power** of the beam, that describes the \"peakiness\":"
   ]
  },
  {
   "cell_type": "code",
   "execution_count": 65,
   "id": "5ec7428e-f755-4d4f-ae61-a385f4439c4c",
   "metadata": {},
   "outputs": [],
   "source": [
    "def defBeampattern(irange, arange, grid1, grid2, param1, param2, param3, param4, param5):\n",
    "    \"\"\"Uses the parametrization of the beam pattern in order to place it on the grid defined by grid1 and grid2,\n",
    "     irange and arange are the range of the angles that are used to define the grids that we mesh together afterward to create the whole grid to plot the beampattern on.\n",
    "     This function also includes the asymmetry of the inclination and the azimuthal angles of the beam emission.\n",
    "     these angles are defined with respect to the normal to the surface of the hotspot.\n",
    "\n",
    "     Parameters:\n",
    "        -------------\n",
    "        irange: range of the possible inclination angles (from 0 to pi/2), with respect to the normal of the hotspot (list)\n",
    "\n",
    "        arange: range of the possible azimuthal angles (from -pi/2 to pi/2), with respect to the y-axis (list)\n",
    "\n",
    "        grid1: X result from the meshgrid of irange and arange (list of arrays)\n",
    "\n",
    "        grid2: Y result from the meshgrid of irange and arange (list of arrays)\n",
    "\n",
    "        param1, param2: define the shifting of the cosine functions in the equation of beampattern. (float)\n",
    "\n",
    "        param3: define the exponent of the equation beampattern that allows to adjust the width or “peakiness” of the beam pattern (float)\n",
    "\n",
    "        param4, param5: Used to multiply the cosines of the irange and arange angles to introduce more asymmetry (float)\n",
    "\n",
    "    Returns:\n",
    "        ----------------\n",
    "        beampattern: the pattern of the beam that is emitted from the pole of the pulsar, containing also the asymmetries (2D numpy array)\n",
    "\n",
    "    References:\n",
    "        -----\n",
    "        fig 7.12, pag. 134 of Saathof, 2023\n",
    "     \"\"\"\n",
    "\n",
    "    beampattern = (np.cos(grid2 + param1) * np.cos(grid1 + param2)) ** int(param3)\n",
    "    # irange_asym = np.array(np.cos(irange) * param4)\n",
    "    # arange_asym = np.array(np.cos(arange) * param5)\n",
    "    # beampattern = beampattern.T\n",
    "    # beampattern += irange_asym  # adding the asymmetries to the pattern calculated before\n",
    "    # beampattern = beampattern.T\n",
    "    # beampattern += arange_asym\n",
    "\n",
    "    beampattern = np.abs(beampattern)\n",
    "    beampattern /= np.max(beampattern)\n",
    "    beampattern = np.where(grid1 > np.pi / 2, 0, beampattern)\n",
    "    beampattern = np.where(grid2 > np.pi / 2, 0, beampattern)\n",
    "    beampattern = np.where(grid1 < -np.pi / 2, 0, beampattern)\n",
    "    beampattern = np.where(grid2 < -np.pi / 2, 0, beampattern)\n",
    "    return beampattern\n"
   ]
  },
  {
   "cell_type": "markdown",
   "id": "910915fb-68ed-4716-bc1f-e4505b84d048",
   "metadata": {
    "jp-MarkdownHeadingCollapsed": true
   },
   "source": [
    "## Do the physics"
   ]
  },
  {
   "cell_type": "markdown",
   "id": "a4ff29ec-a8d3-4d83-b86c-4d4f40a0ddf9",
   "metadata": {},
   "source": [
    "All the functions defined before are used here, that gives an interpolation between the beampattern and the intrinsic angle of the hotspot, \n",
    "in order to get back the parameters and, most importantly the resulting **pulse profile**:\n"
   ]
  },
  {
   "cell_type": "code",
   "execution_count": 66,
   "id": "e9606c23-130c-4e7f-adde-28157289537a",
   "metadata": {},
   "outputs": [],
   "source": [
    "def f_parametrized(RotationInclination, RotationAzimuth, MagnColatitude, param1, param2, param3, param4, param5, shift):\n",
    "    \"\"\"Combines all the functions defined before:\n",
    "\n",
    "    Parameters:\n",
    "        -----------\n",
    "        RotationInclination: angle of inclination of the rotation axis\n",
    "\n",
    "        RotationAzimuth: azimuth angle of the rotation axis\n",
    "\n",
    "        MagnColatitude: relative angle between the hotspot vector and the rotation axis\n",
    "\n",
    "        param1, param2, param3, param4, param5: see the function \"defBeamPattern\"\n",
    "\n",
    "        shift: phase shift of the pulse profile\n",
    "\n",
    "    Returns:\n",
    "        ---------------\n",
    "        irange: range of the inclination angle of the beam emission\n",
    "\n",
    "        arange: range of the azimuth angle of the beam emission\n",
    "\n",
    "        grid1, grid2: grid defined by irange and arange, from meshgrid\n",
    "\n",
    "        hotspotLoc: location of the hotspot, calculated with the function \"hotspotXYZ\"\n",
    "\n",
    "        decomposition: the decomposition of the pulse profile defined by the function \"decompositions\"\n",
    "\n",
    "        hotspotTheta: list of the possible observed azimuthal angles of the hotspot (list)\n",
    "\n",
    "        hotspotPhi: list of the possible observed inclination angles of the hotspot (list)\n",
    "\n",
    "        intrinsicTheta: possible intrinsic azimuthal angles of the hotspot, aster taking into account gravitational light bending (list)\n",
    "\n",
    "        intrinsicPhi: possible intrinsic inclination angles of the hotspot, aster taking into account gravitational light bending (list)\n",
    "\n",
    "        pattern: the pattern defined by the equations of the beam in \"defBeamPattern\" (2D numpy array)\n",
    "\n",
    "        hotspotPattern: pattern obtained interpolating the function of the beamPattern with the angles that define the hotspot (list)\n",
    "        \"\"\"\n",
    "\n",
    "    irange = np.linspace(-np.pi / 2, np.pi / 2, 32)\n",
    "    arange = np.linspace(-np.pi / 2, np.pi / 2, 32)\n",
    "    grid1, grid2 = np.meshgrid(irange, arange)\n",
    "    npoints = 32\n",
    "\n",
    "    hotspotLoc = hotspotXYZ(RotationInclination, RotationAzimuth, MagnColatitude, npoints, shift)\n",
    "\n",
    "    hotspotTheta, hotspotPhi, intrinsicTheta, intrinsicPhi = intrinsicAngles(hotspotLoc)\n",
    "\n",
    "    pattern = defBeampattern(irange, arange, grid1, grid2, param1, param2, param3, param4, param5)\n",
    "    patternSpline = interp2d(irange, arange, pattern,\n",
    "                             kind='cubic')  # gives a function that can interpolate the grid (x y axis) with the beam pattern (z axis)\n",
    "\n",
    "    hotspotPattern = [patternSpline(intrinsicTheta[i], intrinsicPhi[i]) for i in\n",
    "                      range(len(intrinsicPhi))]  # Evaluate the interpolating function at the angles of the hotspot\n",
    "    hotspotPattern = np.concatenate(hotspotPattern).ravel().tolist()\n",
    "\n",
    "    return irange, arange, grid1, grid2, hotspotLoc, \\\n",
    "        hotspotTheta, hotspotPhi, intrinsicTheta, intrinsicPhi, \\\n",
    "        pattern, hotspotPattern, param1, param2, param3, param4, param5"
   ]
  },
  {
   "cell_type": "markdown",
   "id": "8e2c91e4-40a7-4eda-a0b0-8dcd1b461f34",
   "metadata": {
    "jp-MarkdownHeadingCollapsed": true
   },
   "source": [
    "## Data creation"
   ]
  },
  {
   "cell_type": "markdown",
   "id": "7f946f91-1f61-4edf-bfd3-9800f72572dc",
   "metadata": {},
   "source": [
    "First of all I want to describe the ranges of the parameters, and to do so I create a function which uses a *linspace*\n",
    "for each parameter of the given length:"
   ]
  },
  {
   "cell_type": "code",
   "execution_count": 67,
   "id": "dfcb0db3-7b2b-4e23-9b08-cb114c586612",
   "metadata": {},
   "outputs": [],
   "source": [
    "def ranges(i):\n",
    "    \"\"\"This function defines the ranges of variation of the parameters in order to create the data\n",
    "\n",
    "    Parameters:\n",
    "        ----------\n",
    "        i: the number of iterations for each parameter (float)\n",
    "\n",
    "    Returns:\n",
    "        ----------\n",
    "        A list of len = i for each of the 7 parameters\n",
    "\n",
    "        \"\"\"\n",
    "    rot_i = np.linspace(-90, 90, i + 3) # More important, I added 3 iterations for now, there can be more\n",
    "    rot_a = np.linspace(-150, 180, i, endpoint=False) #Not super interested if the hotspot is behind the star, exclude +-180\n",
    "    magnc = np.linspace(0, 90, i)\n",
    "    shift = np.linspace(-np.pi, np.pi, i, endpoint=False) #Set some endpoint= False because I think they would lead to the same result\n",
    "    p1 = np.linspace(-np.pi, np.pi, i, endpoint=False)\n",
    "    p2 = np.linspace(-np.pi, np.pi, i, endpoint=False)\n",
    "    p3 = np.linspace(0, 20, 4)  # Less important, let us limit to 4 interactions\n",
    "\n",
    "    # init_p4 = np.linspace(0, 1, 5) #These are asymmetry parameters, ignore for now\n",
    "    # p5 = np.linspace(0, 1, 5)\n",
    "\n",
    "    return rot_i, rot_a, magnc, shift, p1, p2, p3\n"
   ]
  },
  {
   "cell_type": "markdown",
   "id": "051e5fc9-eaa9-4388-8eb2-fd24295c6d5e",
   "metadata": {},
   "source": [
    "Now let's generate **all the possible combinations** from the ranges I just defined:"
   ]
  },
  {
   "cell_type": "code",
   "execution_count": 68,
   "id": "2c56b674-0614-4824-b0b4-43de6582ec5e",
   "metadata": {},
   "outputs": [],
   "source": [
    "def generate_combinations(rot_i, rot_a, magnc, shift, p1, p2, p3):\n",
    "    \"\"\"This list comprehension simply generates all the possible combinations from the\n",
    "    given lists of data, in order to use it in the function without for cycles\n",
    "\n",
    "    Parameters:\n",
    "        ---------\n",
    "        rot_i, rot_a, magnc, shift, p1, p2, p3: The 7 ranges of parameters that we need to iterate with (list)\n",
    "\n",
    "    Returns:\n",
    "        ----------\n",
    "        combo: list containing all the possible combinations of parameters\n",
    "        \"\"\"\n",
    "    combo = [(rot_i[q], rot_a[t], magnc[u], p1[i], p2[j], p3[k], shift[v])\n",
    "            for q in range(len(rot_i))\n",
    "            for t in range(len(rot_a))\n",
    "            for u in range(len(magnc))\n",
    "            for v in range(len(shift))\n",
    "            for i in range(len(p1))\n",
    "            for j in range(len(p2))\n",
    "            for k in range(len(p3))]\n",
    "    return combo"
   ]
  },
  {
   "cell_type": "markdown",
   "id": "7e87036f-d931-4f3e-a265-eeb5ddfd4a9a",
   "metadata": {},
   "source": [
    "This returned a list that containes all the possible combinations of the parameters."
   ]
  },
  {
   "cell_type": "markdown",
   "id": "cafd922b-908a-4308-b5a9-faed414d3fc7",
   "metadata": {
    "jp-MarkdownHeadingCollapsed": true
   },
   "source": [
    "## ProcessPoolExecutor parallelization (use it alternatively to the \"Linear for cycle process\")"
   ]
  },
  {
   "cell_type": "markdown",
   "id": "0f4ca806-59c7-4313-9e1c-37d97e2325fc",
   "metadata": {},
   "source": [
    " The next step is to iterate over all the possible values\n",
    "of this list and to pass the values to the function describing the physical processes, in order to obtain the corresponding values of the hotspot and the pulse profile corresponding to the different combinations of parameters. This goal will be achieved with the function iterations, where the only input parameter will be the combination just generated."
   ]
  },
  {
   "cell_type": "code",
   "execution_count": 34,
   "id": "f07ebf6b-47e0-4b47-b0ee-3bd203545abd",
   "metadata": {},
   "outputs": [],
   "source": [
    "def iterations(combo):\n",
    "    \"\"\"With this function I iterate the combined ranges in the function that defines the final dataset.\n",
    "\n",
    "    Parameters:\n",
    "        ---------\n",
    "        The list of all the possible data combinations\n",
    "\n",
    "    Returns:\n",
    "        -----------\n",
    "        The list of dictionaries containing the data (parameters and hotspot pattern) of the function defining the code\n",
    "\n",
    "    Notes:\n",
    "        This function is used in this way and not with the for cycles within it because it was the only way I could figure\n",
    "        how to run the processes in parallel with ProcessPoolExecutor\n",
    "        \"\"\"\n",
    "\n",
    "    rot_i, rot_a, magnc, p1, p2, p3, shift = combo #assign the values to the parameters\n",
    "    data = []  # creates the listy of future data\n",
    "    # Now that we fixed the values iterating, let's use the function to calculate the physical data\n",
    "\n",
    "    irange, arange, grid1, grid2, hotspotLoc, hotspotTheta, hotspotPhi, intrinsicTheta, intrinsicPhi, beampattern, hotspotPattern, \\\n",
    "        param1, param2, param3, param4, param5 = \\\n",
    "        f_parametrized(rot_i, rot_a, magnc, p1, p2, p3, 0, 0, shift)\n",
    "\n",
    "    # Create a dictionary to append to the list for every interaction\n",
    "\n",
    "    data_to_save = {\n",
    "        # 'intrinsic theta': intrinsicTheta,\n",
    "        # 'intrinsic phi': intrinsicPhi,\n",
    "        'param1': param1,\n",
    "        'param2': param2,\n",
    "        'param3': param3,\n",
    "        # 'param4': params['param4'],\n",
    "        # 'param5': params['param5'],\n",
    "        'hotspot pattern': hotspotPattern,\n",
    "        'rotation inclination': rot_i,\n",
    "        'rotation azimuth': rot_a,\n",
    "        'magnetic colatitude': magnc,\n",
    "        'shift': shift,\n",
    "    }\n",
    "\n",
    "    # Append the dictionary to the list of data\n",
    "\n",
    "    data.append(data_to_save)\n",
    "\n",
    "    # Put a progress bar if needed, not sure how to implement here\n",
    "\n",
    "    return data"
   ]
  },
  {
   "cell_type": "markdown",
   "id": "c2436a50-6823-442b-92e5-df9e2abaebd4",
   "metadata": {},
   "source": [
    "This returns a list of dictionaries that contain the data we are interested in saving.\n",
    "\n",
    "One dictionary in the list looks like this:\n"
   ]
  },
  {
   "cell_type": "markdown",
   "id": "ee8028c8-56b5-48b9-aaac-0c06b0ae8d64",
   "metadata": {},
   "source": [
    "#### Put all together"
   ]
  },
  {
   "cell_type": "markdown",
   "id": "93001040-b511-44ce-bf54-7b97bb25a766",
   "metadata": {},
   "source": [
    "The goal now is to do everything I described before, running the different processes in parallel with ProcessPoolExecutor. First of all let us choose a length for the parameters range and generate the ranges"
   ]
  },
  {
   "cell_type": "code",
   "execution_count": 35,
   "id": "503d75e0-146b-4b66-948e-1fc5ef2bce5e",
   "metadata": {},
   "outputs": [],
   "source": [
    "if __name__ == \"__main__\": #This is apparently needed otherwise the code crashes\n",
    "\n",
    "    # Define the number of iterations for each parameter\n",
    "    length = 4  # Change this as needed\n",
    "\n",
    "    rot_i, rot_a, magnc, shift, p1, p2, p3 = ranges(length) #Create the ranges of the parameters\n"
   ]
  },
  {
   "cell_type": "markdown",
   "id": "733d516c-628a-4aa7-8718-e45f9bb8b04f",
   "metadata": {},
   "source": [
    "The next step is to generate all the combibations from the chosen ranges, calling the function described beforehand"
   ]
  },
  {
   "cell_type": "code",
   "execution_count": 36,
   "id": "8f9388d2-eb9d-4055-bcf6-247f07dbdabf",
   "metadata": {},
   "outputs": [],
   "source": [
    " # Generate all combinations of the parameters\n",
    "combo = list(generate_combinations(rot_i, rot_a, magnc, shift, p1, p2, p3))"
   ]
  },
  {
   "cell_type": "markdown",
   "id": "0928c3ec-d0d4-48d9-8a35-ee71fadb7b34",
   "metadata": {},
   "source": [
    "Now let's proceed with calling the main function \"iterations\" (that contains the physical funnction and parameters). To do so I will use a parallelization of the processes, utilizing the function ProcessPoolExecutor, that takes as a parameter the number of processors one wants to use to run the code."
   ]
  },
  {
   "cell_type": "code",
   "execution_count": 22,
   "id": "2854bdd7-2eb5-4aa8-b025-f14fa5dde1e7",
   "metadata": {},
   "outputs": [],
   "source": [
    "with ProcessPoolExecutor() as executor:\n",
    "    #Use the parallelization to compute the data\n",
    "        final = executor.map(iterations, combo)"
   ]
  },
  {
   "cell_type": "markdown",
   "id": "39ac4c0c-50ef-44b2-bef3-9c1bd045eabd",
   "metadata": {},
   "source": [
    "This executes different processes in parallel and therefore improves the time taken by the code to run. This might have some problems, so I will also describe the \"linear\" process that will take more time but it is easier to run since it doesn't involve function with multiprocessing. \n",
    "\n",
    "This returns an object which is composed of lists where each list contains one dictionary, in order to get a cleaner database, with only one list containing all the dictionaries, we have to proceed with a little manipulation of the data, in order to proceed saving them"
   ]
  },
  {
   "cell_type": "code",
   "execution_count": 24,
   "id": "6ef25893-1973-42ea-b904-476e8372dfa5",
   "metadata": {},
   "outputs": [
    {
     "ename": "BrokenProcessPool",
     "evalue": "A process in the process pool was terminated abruptly while the future was running or pending.",
     "output_type": "error",
     "traceback": [
      "\u001b[1;31m---------------------------------------------------------------------------\u001b[0m",
      "\u001b[1;31mBrokenProcessPool\u001b[0m                         Traceback (most recent call last)",
      "Cell \u001b[1;32mIn[24], line 2\u001b[0m\n\u001b[0;32m      1\u001b[0m data \u001b[38;5;241m=\u001b[39m []\n\u001b[1;32m----> 2\u001b[0m \u001b[38;5;28;01mfor\u001b[39;00m element \u001b[38;5;129;01min\u001b[39;00m final:\n\u001b[0;32m      3\u001b[0m     data\u001b[38;5;241m.\u001b[39mappend(element[\u001b[38;5;241m0\u001b[39m])\n",
      "File \u001b[1;32m~\\anaconda3\\Lib\\concurrent\\futures\\process.py:620\u001b[0m, in \u001b[0;36m_chain_from_iterable_of_lists\u001b[1;34m(iterable)\u001b[0m\n\u001b[0;32m    614\u001b[0m \u001b[38;5;28;01mdef\u001b[39;00m \u001b[38;5;21m_chain_from_iterable_of_lists\u001b[39m(iterable):\n\u001b[0;32m    615\u001b[0m \u001b[38;5;250m    \u001b[39m\u001b[38;5;124;03m\"\"\"\u001b[39;00m\n\u001b[0;32m    616\u001b[0m \u001b[38;5;124;03m    Specialized implementation of itertools.chain.from_iterable.\u001b[39;00m\n\u001b[0;32m    617\u001b[0m \u001b[38;5;124;03m    Each item in *iterable* should be a list.  This function is\u001b[39;00m\n\u001b[0;32m    618\u001b[0m \u001b[38;5;124;03m    careful not to keep references to yielded objects.\u001b[39;00m\n\u001b[0;32m    619\u001b[0m \u001b[38;5;124;03m    \"\"\"\u001b[39;00m\n\u001b[1;32m--> 620\u001b[0m     \u001b[38;5;28;01mfor\u001b[39;00m element \u001b[38;5;129;01min\u001b[39;00m iterable:\n\u001b[0;32m    621\u001b[0m         element\u001b[38;5;241m.\u001b[39mreverse()\n\u001b[0;32m    622\u001b[0m         \u001b[38;5;28;01mwhile\u001b[39;00m element:\n",
      "File \u001b[1;32m~\\anaconda3\\Lib\\concurrent\\futures\\_base.py:619\u001b[0m, in \u001b[0;36mExecutor.map.<locals>.result_iterator\u001b[1;34m()\u001b[0m\n\u001b[0;32m    616\u001b[0m \u001b[38;5;28;01mwhile\u001b[39;00m fs:\n\u001b[0;32m    617\u001b[0m     \u001b[38;5;66;03m# Careful not to keep a reference to the popped future\u001b[39;00m\n\u001b[0;32m    618\u001b[0m     \u001b[38;5;28;01mif\u001b[39;00m timeout \u001b[38;5;129;01mis\u001b[39;00m \u001b[38;5;28;01mNone\u001b[39;00m:\n\u001b[1;32m--> 619\u001b[0m         \u001b[38;5;28;01myield\u001b[39;00m _result_or_cancel(fs\u001b[38;5;241m.\u001b[39mpop())\n\u001b[0;32m    620\u001b[0m     \u001b[38;5;28;01melse\u001b[39;00m:\n\u001b[0;32m    621\u001b[0m         \u001b[38;5;28;01myield\u001b[39;00m _result_or_cancel(fs\u001b[38;5;241m.\u001b[39mpop(), end_time \u001b[38;5;241m-\u001b[39m time\u001b[38;5;241m.\u001b[39mmonotonic())\n",
      "File \u001b[1;32m~\\anaconda3\\Lib\\concurrent\\futures\\_base.py:317\u001b[0m, in \u001b[0;36m_result_or_cancel\u001b[1;34m(***failed resolving arguments***)\u001b[0m\n\u001b[0;32m    315\u001b[0m \u001b[38;5;28;01mtry\u001b[39;00m:\n\u001b[0;32m    316\u001b[0m     \u001b[38;5;28;01mtry\u001b[39;00m:\n\u001b[1;32m--> 317\u001b[0m         \u001b[38;5;28;01mreturn\u001b[39;00m fut\u001b[38;5;241m.\u001b[39mresult(timeout)\n\u001b[0;32m    318\u001b[0m     \u001b[38;5;28;01mfinally\u001b[39;00m:\n\u001b[0;32m    319\u001b[0m         fut\u001b[38;5;241m.\u001b[39mcancel()\n",
      "File \u001b[1;32m~\\anaconda3\\Lib\\concurrent\\futures\\_base.py:449\u001b[0m, in \u001b[0;36mFuture.result\u001b[1;34m(self, timeout)\u001b[0m\n\u001b[0;32m    447\u001b[0m     \u001b[38;5;28;01mraise\u001b[39;00m CancelledError()\n\u001b[0;32m    448\u001b[0m \u001b[38;5;28;01melif\u001b[39;00m \u001b[38;5;28mself\u001b[39m\u001b[38;5;241m.\u001b[39m_state \u001b[38;5;241m==\u001b[39m FINISHED:\n\u001b[1;32m--> 449\u001b[0m     \u001b[38;5;28;01mreturn\u001b[39;00m \u001b[38;5;28mself\u001b[39m\u001b[38;5;241m.\u001b[39m__get_result()\n\u001b[0;32m    451\u001b[0m \u001b[38;5;28mself\u001b[39m\u001b[38;5;241m.\u001b[39m_condition\u001b[38;5;241m.\u001b[39mwait(timeout)\n\u001b[0;32m    453\u001b[0m \u001b[38;5;28;01mif\u001b[39;00m \u001b[38;5;28mself\u001b[39m\u001b[38;5;241m.\u001b[39m_state \u001b[38;5;129;01min\u001b[39;00m [CANCELLED, CANCELLED_AND_NOTIFIED]:\n",
      "File \u001b[1;32m~\\anaconda3\\Lib\\concurrent\\futures\\_base.py:401\u001b[0m, in \u001b[0;36mFuture.__get_result\u001b[1;34m(self)\u001b[0m\n\u001b[0;32m    399\u001b[0m \u001b[38;5;28;01mif\u001b[39;00m \u001b[38;5;28mself\u001b[39m\u001b[38;5;241m.\u001b[39m_exception:\n\u001b[0;32m    400\u001b[0m     \u001b[38;5;28;01mtry\u001b[39;00m:\n\u001b[1;32m--> 401\u001b[0m         \u001b[38;5;28;01mraise\u001b[39;00m \u001b[38;5;28mself\u001b[39m\u001b[38;5;241m.\u001b[39m_exception\n\u001b[0;32m    402\u001b[0m     \u001b[38;5;28;01mfinally\u001b[39;00m:\n\u001b[0;32m    403\u001b[0m         \u001b[38;5;66;03m# Break a reference cycle with the exception in self._exception\u001b[39;00m\n\u001b[0;32m    404\u001b[0m         \u001b[38;5;28mself\u001b[39m \u001b[38;5;241m=\u001b[39m \u001b[38;5;28;01mNone\u001b[39;00m\n",
      "\u001b[1;31mBrokenProcessPool\u001b[0m: A process in the process pool was terminated abruptly while the future was running or pending."
     ]
    }
   ],
   "source": [
    "data = []\n",
    "for element in final:\n",
    "    data.append(element[0])"
   ]
  },
  {
   "cell_type": "markdown",
   "id": "1cf95263-57ef-419e-84b4-28867f63656e",
   "metadata": {
    "jp-MarkdownHeadingCollapsed": true
   },
   "source": [
    "## Linear for cycle process (Use as an alternative for \"ProcessPoolExecutor parallelization\")"
   ]
  },
  {
   "cell_type": "markdown",
   "id": "0ce74175-167e-4bbc-9517-30f1d04f4bbd",
   "metadata": {},
   "source": [
    "This method is simpler conceptually because it simply iterates with for cycle over all the possible combinations and generates the data from there. \n",
    "\n",
    "<b>Use a low number in ranges to try (4 max) because it scales exponentially"
   ]
  },
  {
   "cell_type": "code",
   "execution_count": 69,
   "id": "586076e2-99b6-4126-943d-ddd997d15fdd",
   "metadata": {},
   "outputs": [],
   "source": [
    "data = []  # creates the listy of future data\n",
    "(rot_i, rot_a, magnc, p1, p2, p3, shift) = ranges(4)\n",
    "combo = generate_combinations(rot_i, rot_a, magnc, p1, p2, p3, shift)"
   ]
  },
  {
   "cell_type": "markdown",
   "id": "07faa48f-b0be-4586-91ad-b590d5650da9",
   "metadata": {},
   "source": [
    "Now that I have generated all the data combinations, let's iterate over those, calling the function describing the physical process,  *f_parametrized*, for every different combination of parameters. \n",
    "In this *for cycle* for every iteration the results are saved in a dictionary that is appended at the empty list created earlier, in order to have the list of dictionaries at the end of the process:"
   ]
  },
  {
   "cell_type": "code",
   "execution_count": 70,
   "id": "ddb1be5a-e1dc-4121-ab6b-f764a132fda4",
   "metadata": {},
   "outputs": [
    {
     "name": "stderr",
     "output_type": "stream",
     "text": [
      "C:\\Users\\Utente\\AppData\\Local\\Temp\\ipykernel_9444\\2525079040.py:51: DeprecationWarning: `interp2d` is deprecated!\n",
      "`interp2d` is deprecated in SciPy 1.10 and will be removed in SciPy 1.13.0.\n",
      "\n",
      "For legacy code, nearly bug-for-bug compatible replacements are\n",
      "`RectBivariateSpline` on regular grids, and `bisplrep`/`bisplev` for\n",
      "scattered 2D data.\n",
      "\n",
      "In new code, for regular grids use `RegularGridInterpolator` instead.\n",
      "For scattered data, prefer `LinearNDInterpolator` or\n",
      "`CloughTocher2DInterpolator`.\n",
      "\n",
      "For more details see\n",
      "`https://scipy.github.io/devdocs/notebooks/interp_transition_guide.html`\n",
      "\n",
      "  patternSpline = interp2d(irange, arange, pattern,\n",
      "C:\\Users\\Utente\\AppData\\Local\\Temp\\ipykernel_9444\\2525079040.py:54: DeprecationWarning:         `interp2d` is deprecated!\n",
      "        `interp2d` is deprecated in SciPy 1.10 and will be removed in SciPy 1.13.0.\n",
      "\n",
      "        For legacy code, nearly bug-for-bug compatible replacements are\n",
      "        `RectBivariateSpline` on regular grids, and `bisplrep`/`bisplev` for\n",
      "        scattered 2D data.\n",
      "\n",
      "        In new code, for regular grids use `RegularGridInterpolator` instead.\n",
      "        For scattered data, prefer `LinearNDInterpolator` or\n",
      "        `CloughTocher2DInterpolator`.\n",
      "\n",
      "        For more details see\n",
      "        `https://scipy.github.io/devdocs/notebooks/interp_transition_guide.html`\n",
      "\n",
      "  hotspotPattern = [patternSpline(intrinsicTheta[i], intrinsicPhi[i]) for i in\n"
     ]
    }
   ],
   "source": [
    "for element in combo:\n",
    "    \n",
    "    rot_i, rot_a, magnc, p1, p2, p3, shift = element #assign the values to the parameters\n",
    "    \n",
    "    # Now that we fixed the values iterating, let's use the function to calculate the physical data\n",
    "\n",
    "    irange, arange, grid1, grid2, hotspotLoc, hotspotTheta, hotspotPhi, intrinsicTheta, intrinsicPhi, beampattern, hotspotPattern, \\\n",
    "        param1, param2, param3, param4, param5 = \\\n",
    "        f_parametrized(rot_i, rot_a, magnc, p1, p2, p3, 0, 0, shift)\n",
    "\n",
    "    # Create a dictionary to append to the list for every interaction\n",
    "\n",
    "    data_to_save = {\n",
    "        # 'intrinsic theta': intrinsicTheta,\n",
    "        # 'intrinsic phi': intrinsicPhi,\n",
    "        'param1': param1,\n",
    "        'param2': param2,\n",
    "        'param3': param3,\n",
    "        # 'param4': params['param4'],\n",
    "        # 'param5': params['param5'],\n",
    "        'hotspot pattern': hotspotPattern,\n",
    "        'rotation inclination': rot_i,\n",
    "        'rotation azimuth': rot_a,\n",
    "        'magnetic colatitude': magnc,\n",
    "        'shift': shift,\n",
    "    }\n",
    "\n",
    "    # Append the dictionary to the list of data\n",
    "\n",
    "    data.append(data_to_save)"
   ]
  },
  {
   "cell_type": "markdown",
   "id": "1471299d-e9be-4158-ab3b-df25a618f035",
   "metadata": {
    "jp-MarkdownHeadingCollapsed": true
   },
   "source": [
    "## Saving data in a parquet file"
   ]
  },
  {
   "cell_type": "markdown",
   "id": "c9179ee6-d1b7-41dc-9f4a-0ad70f0cb841",
   "metadata": {},
   "source": [
    "Now either path you chose in order to generate data, you will have a **list of dictionaries**. \n",
    "Each dictionary should look like this (this are random data from my database):"
   ]
  },
  {
   "cell_type": "markdown",
   "id": "4e09e4ea-098c-4e71-b1b4-646b1e91421f",
   "metadata": {},
   "source": [
    "{'param1': 1.8849555921538759, 'param2': 0.6283185307179586, 'param3': 6.666666666666667, 'hotspot pattern': [ 1.88177966e-01,  2.23304447e-01,  2.58136002e-01,  2.83790161e-01,\r\n",
    "        2.89524631e-01,  2.66984723e-01,  2.15774666e-01,  1.46896294e-01,\r\n",
    "        7.94433174e-02,  3.09385557e-02,  7.15113550e-03,  6.04311015e-04,\r\n",
    "        2.10630832e-06, -3.01634917e-07,  4.69047858e-04,  1.19985999e-02,\r\n",
    "        7.83525164e-02,  2.46678301e-01,  4.88061390e-01,  7.09863153e-01,\r\n",
    "        7.12928652e-01,  6.71364382e-01,  6.11643015e-01,  5.38945897e-01,\r\n",
    "        4.60805567e-01,  3.84938327e-01,  3.17476421e-01,  2.62035695e-01,\r\n",
    "        2.19993452e-01,  1.91048215e-01,  1.74265599e-01,  1.8817796e-01]), 'rotation inclination': -64.28571428571428, 'rotation azimuth': 114.0, 'magnetic colatitude': 67.5, 'shift': -3.141592653589793}\r\n"
   ]
  },
  {
   "cell_type": "markdown",
   "id": "2f8a10bb-31e4-4297-9e73-2f1e7adee77e",
   "metadata": {},
   "source": [
    "You can compare it with an example from this code:"
   ]
  },
  {
   "cell_type": "code",
   "execution_count": 71,
   "id": "bebdd32d-3311-4ea4-8552-c8fbc5256b28",
   "metadata": {},
   "outputs": [
    {
     "name": "stdout",
     "output_type": "stream",
     "text": [
      "{'param1': -3.141592653589793, 'param2': -3.141592653589793, 'param3': 20.0, 'hotspot pattern': [4.2530517769973685e-28, 4.2530517769973685e-28, 4.2530517769973685e-28, 4.2530517769973685e-28, 4.2530517769973685e-28, 4.2530517769973685e-28, 4.2530517769973685e-28, 4.2530517769973685e-28, 4.2530517769973685e-28, 4.2530517769973685e-28, 4.2530517769973685e-28, 4.2530517769973685e-28, 4.2530517769973685e-28, 4.2530517769973685e-28, 4.2530517769973685e-28, 4.2530517769973685e-28, 4.2530517769973685e-28, 4.2530517769973685e-28, 4.2530517769973685e-28, 4.2530517769973685e-28, 4.2530517769973685e-28, 4.2530517769973685e-28, 4.2530517769973685e-28, 4.2530517769973685e-28, 4.2530517769973685e-28, 4.2530517769973685e-28, 4.2530517769973685e-28, 4.2530517769973685e-28, 4.2530517769973685e-28, 4.2530517769973685e-28, 4.2530517769973685e-28, 4.2530517769973685e-28], 'rotation inclination': -90.0, 'rotation azimuth': -150.0, 'magnetic colatitude': 0.0, 'shift': -3.141592653589793}\n"
     ]
    }
   ],
   "source": [
    "print(data[3]) #Choose a random number"
   ]
  },
  {
   "cell_type": "markdown",
   "id": "14093723-bd6c-4750-ba71-7f1d0480dc1e",
   "metadata": {},
   "source": [
    "One can notice how all the parameters are float, ecxept for the hotspot pattern that has 32 entries, and it is the pulse profile we are interested in."
   ]
  },
  {
   "cell_type": "markdown",
   "id": "2b78a576-9f09-437a-865f-57b462a583f9",
   "metadata": {},
   "source": [
    "Now we want to save it in a correct way that will result easy to read back and to use. \n",
    "To do so I chose to use a **parquet file**, that is both complete for the dataset I have and at the same time rather simple. I proceed creating a dataframe with pandas:"
   ]
  },
  {
   "cell_type": "code",
   "execution_count": 72,
   "id": "1fcdc337-e462-4c8f-ba49-02b6d3a70d5b",
   "metadata": {},
   "outputs": [],
   "source": [
    "df = pd.DataFrame(data)"
   ]
  },
  {
   "cell_type": "markdown",
   "id": "2c6b723b-04ac-4971-98c2-f83d00cf85d1",
   "metadata": {},
   "source": [
    "Now let's define a file path to save the data and dump the data into the file, making sure the **engine = \"pyarrow\"** is specified when saving the data in order to achieve a correct encoding:"
   ]
  },
  {
   "cell_type": "code",
   "execution_count": 73,
   "id": "e77c8a31-9f37-4349-8ac6-e912aa9d28a5",
   "metadata": {},
   "outputs": [],
   "source": [
    " # Define the filepath\n",
    "file_name = f'bigdata'\n",
    "folder_path = \"C:\\\\Users\\\\Utente\\\\Desktop\"\n",
    "filepath = os.path.join(folder_path, file_name) #Can also just write the filepath here\n",
    "\n",
    "#This should dump everything and create the parquet file with the chosen path\n",
    "df.to_parquet(file_path, engine='pyarrow', index=False) "
   ]
  },
  {
   "cell_type": "markdown",
   "id": "83a0e65c-0506-4e18-9db0-d486c8b6799f",
   "metadata": {},
   "source": [
    "So we have created the database as a parquet file!"
   ]
  },
  {
   "cell_type": "markdown",
   "id": "e36d7ab9-18e2-4ec4-bff7-b04cf6382eb8",
   "metadata": {
    "jp-MarkdownHeadingCollapsed": true
   },
   "source": [
    "## How to read the data"
   ]
  },
  {
   "cell_type": "markdown",
   "id": "31253fda-ba4c-4f24-baa5-50b7e1e4a75b",
   "metadata": {},
   "source": [
    "Now the goal is **to read the data and try to use them somehow.** The following part of the code will read all the data back and use them, to give an overview on how to handle the data processing."
   ]
  },
  {
   "cell_type": "markdown",
   "id": "9972283e-908c-46ea-8504-5176a8c0a8fa",
   "metadata": {},
   "source": [
    "This first function I define prints the keys of the dictionary. \n",
    "It is helpful when reading the data to know which are the keys and what do they mean. Knowing the keys and what do they represent is fundamental for someone who just wants to use the file and was not involved in the creation process of the database:"
   ]
  },
  {
   "cell_type": "code",
   "execution_count": 74,
   "id": "f4279dff-7815-41bb-9f52-54538c133adb",
   "metadata": {},
   "outputs": [],
   "source": [
    "def printKeys(data_dict):\n",
    "    \"\"\"\n",
    "    Prints the keys of the dictionary used in the project\n",
    "\n",
    "    Parameters:\n",
    "        ----------\n",
    "        data_dict: List of dictionaries, it should be read (or obtained) from the simulation data\n",
    "\n",
    "    Returns:\n",
    "        ---------\n",
    "        The keys of the dictionary used\n",
    "\n",
    "    Notes:\n",
    "        ----------\n",
    "        This displays the keys but the data_dict that we have is a list of dictionaries,\n",
    "        so keep it in mind when reading at next steps\n",
    "    \"\"\"\n",
    "    keys = data_dict[1].keys()\n",
    "    descriptions = [\n",
    "        \"is the \\\"azimuthal\\\" parameter of the beam pattern\",\n",
    "        \"is the \\\"inclination\\\" parameter of the beam pattern\",\n",
    "        \"is the power parameter of the beam pattern\",\n",
    "        \"is the pulse profile computed with the parameters\",\n",
    "        \"is the angle of inclination of the rotation axis\",\n",
    "        \"is the azimuthal angle of the rotation axis\",\n",
    "        \"is the magnetic colatitude, describes the angle between the possible hotspots and the rotation axis\",\n",
    "        \"is the position of the hotspot around the rotation axis\",\n",
    "\n",
    "    ]\n",
    "    i = 0\n",
    "    for key in data_dict[1]:\n",
    "\n",
    "        print(\"%s: %s\\n\" %(key, descriptions[i]))\n",
    "        i += 1"
   ]
  },
  {
   "cell_type": "markdown",
   "id": "38a0c708-c95b-4511-9d0c-44e76c41b1f9",
   "metadata": {},
   "source": [
    "The following function takes as a parameter the file we created (or another parquet file with the exact type of data encoded into it) and reads it in a list of dictionaries that can be used in the following.  It also calls the function to print the keys:"
   ]
  },
  {
   "cell_type": "code",
   "execution_count": 75,
   "id": "02122cd3-0432-431d-86b7-b3e8050daf57",
   "metadata": {},
   "outputs": [],
   "source": [
    "def readParquetToDict(filepath):\n",
    "    \"\"\"This function reads the parquet file where the data are stored and transforms the data in order to have a dictionary\n",
    "\n",
    "    Parameters:\n",
    "        -----------\n",
    "        filepath (string) : the path of the file that we want to read the data from\n",
    "\n",
    "    Returns:\n",
    "        ---------\n",
    "        A list of the dictionaries of the data (list[dict])\n",
    "\n",
    "    Notes:\n",
    "        --------\n",
    "\n",
    "        Install pyarrow to use this\n",
    "        Install and import pandas as pd\n",
    "\n",
    "        \"\"\"\n",
    "    file_path = str(filepath)\n",
    "    \n",
    "    loaded_data = pd.read_parquet(file_path, engine='pyarrow')\n",
    "    \n",
    "    data_dict = loaded_data.to_dict(orient=\"records\")\n",
    "    \n",
    "    printKeys(data_dict)\n",
    "    \n",
    "    return data_dict"
   ]
  },
  {
   "cell_type": "markdown",
   "id": "52352c3a-e0cf-49e1-824d-d4b410ee0251",
   "metadata": {},
   "source": [
    "Let's now use these reading functions to have a list of dictionaries (that should be the same as we created before in this same file"
   ]
  },
  {
   "cell_type": "code",
   "execution_count": 76,
   "id": "6aa67b94-9fd4-4375-a105-117209ca9de0",
   "metadata": {},
   "outputs": [
    {
     "name": "stdout",
     "output_type": "stream",
     "text": [
      "param1: is the \"azimuthal\" parameter of the beam pattern\n",
      "\n",
      "param2: is the \"inclination\" parameter of the beam pattern\n",
      "\n",
      "param3: is the power parameter of the beam pattern\n",
      "\n",
      "hotspot pattern: is the pulse profile computed with the parameters\n",
      "\n",
      "rotation inclination: is the angle of inclination of the rotation axis\n",
      "\n",
      "rotation azimuth: is the azimuthal angle of the rotation axis\n",
      "\n",
      "magnetic colatitude: is the magnetic colatitude, describes the angle between the possible hotspots and the rotation axis\n",
      "\n",
      "shift: is the position of the hotspot around the rotation axis\n",
      "\n"
     ]
    }
   ],
   "source": [
    "loaded_data = readParquetToDict(filepath)"
   ]
  },
  {
   "cell_type": "markdown",
   "id": "cfd1793e-e62f-430b-96f5-c9b1849a4e35",
   "metadata": {},
   "source": [
    "*If you ran all the cells correctly, just above this line there should be the keys of the dictionary with a brief description of each*"
   ]
  },
  {
   "cell_type": "markdown",
   "id": "5d21253e-2cca-4f01-896c-889afb34f3cf",
   "metadata": {},
   "source": [
    "## Example of usage"
   ]
  },
  {
   "cell_type": "markdown",
   "id": "1e808037-7c00-4bdd-812e-5ca903775b9e",
   "metadata": {},
   "source": [
    "Now I would like to try to use these data after having read them. I believe this is very useful because one can understand how the data are stored and how they can be extrapolated. "
   ]
  },
  {
   "cell_type": "markdown",
   "id": "fe7de8fe-c4fe-4877-a975-93da56b6ebc1",
   "metadata": {},
   "source": [
    "The example will be a fitting to experimental data, with the program choosing the best fitting simulated parameters, printing them and plotting the graph containing both the experimental data and the best fitting simulated pulse profile."
   ]
  },
  {
   "cell_type": "markdown",
   "id": "55e7b6e7-7581-44f2-ad72-702f96c2672f",
   "metadata": {},
   "source": [
    "The following two functions were also described at the beginning and they are useful only as an **experimental example** to use as a comparison for our simulation data:"
   ]
  },
  {
   "cell_type": "code",
   "execution_count": 77,
   "id": "ded5ddd9-7383-451b-ac9d-b86461a72d87",
   "metadata": {},
   "outputs": [],
   "source": [
    "def normalise_weights(w1, w2):\n",
    "\n",
    "    wsum = w1 + w2\n",
    "    w1 = w1 / wsum\n",
    "    w2 = w2 / wsum\n",
    "    wsum = wsum / np.mean(wsum)\n",
    "    return w1, w2, wsum\n",
    "\n",
    "\n",
    "def decompositions():\n",
    "    \"\"\"This function creates the decomposition of the total pulse profile into two different pulse profiles coming\n",
    "    from the different poles from the experimental data\n",
    "\n",
    "    Return\n",
    "        -----------\n",
    "        d1, d2: The two experimental curves that define the decomposition in the two different contributing poles (numpy arrays)\"\"\"\n",
    "    d1 = np.array([2.089433657753390321e+02,2.194589299387001233e+02,2.242701956130024143e+02,2.215828113982570358e+02,2.119044080603044904e+02,1.896290164200222534e+02,1.699201994046265440e+02,1.256523129323831256e+02,8.503688265750899689e+01,7.872871603812254193e+01,6.991923027381139377e+01,5.683178911921619658e+01,3.124156755276437281e+01,7.269036823844857054e+01,6.021225567409459956e+01,3.283549153829007122e-05,2.070746335489954859e+01,2.039204294346190522e+02,4.840049429063090543e+02,7.172415178717548088e+02,8.874827811973464122e+02,9.764660867645188773e+02,9.541305245679710652e+02,8.215813339957139760e+02,6.190850039923557233e+02,4.598887253861233262e+02,3.712954485901983048e+02,3.156898180851563325e+02,2.666241611172789021e+02,2.256346741358247527e+02,2.103769883639451166e+02,2.078976085285444526e+02])\n",
    "    d2 = np.array([1.706203983036242562e+02,1.627295767828694579e+02,1.508354117504467524e+02,1.387866932644533904e+02,1.222486136182712357e+02,1.134912451761991292e+02,9.134073071527171805e+01,8.393452247999425708e+01,1.066817197404563586e+02,1.153710780759624868e+02,1.233759737954631532e+02,1.483167515129746903e+02,2.492913136389517490e+02,3.399179640856401079e+02,4.636740226352187051e+02,6.800307289423939210e+02,8.913740432455606424e+02,9.093974220853033330e+02,7.202968616231810302e+02,5.014408728270462916e+02,2.981560101312231836e+02,1.266512076523395081e+02,2.776344418581356877e+01,3.598816179894583911e+00,5.163147899177897671e+01,1.027343217254183969e+02,1.227055202846957513e+02,1.252671880914211329e+02,1.319053895669890153e+02,1.488350485237368162e+02,1.574525502093866010e+02,1.655530999612218181e+02])\n",
    "    d1, d2, dpp = normalise_weights(d1, d2) #All different normalisations\n",
    "    d1 *= dpp\n",
    "    d1 /= np.max(dpp)\n",
    "    d2 *= dpp\n",
    "    d2 /= np.max(dpp)\n",
    "    return d1, d2"
   ]
  },
  {
   "cell_type": "markdown",
   "id": "5eac9d6c-6d7e-4800-b099-0b5034eed0d7",
   "metadata": {},
   "source": [
    "Define a very high number as summa and get the experimental data to compare to"
   ]
  },
  {
   "cell_type": "code",
   "execution_count": 79,
   "id": "6ef2075b-d306-4f57-be0b-94c65e54f1d7",
   "metadata": {},
   "outputs": [],
   "source": [
    "summa = 100000000\n",
    "d1, d2 = decompositions()"
   ]
  },
  {
   "cell_type": "markdown",
   "id": "551993e9-d12e-4cc4-8761-92abf9fa14df",
   "metadata": {},
   "source": [
    "The comparison is now done with a naive *for cycle* that compares every hotspot pattern occurence in the data we simulated and read back with the experimental d1 (or d2, it works just as well). It performs a subtraction between each point and sum all of the results. The lower the total sum of the differences and the best fitting will be the simulated dictionary taken into account. The best of all fitting is saved as a list index."
   ]
  },
  {
   "cell_type": "code",
   "execution_count": 80,
   "id": "ff91f83a-2ebd-4e73-be89-30cdf1b19e5c",
   "metadata": {},
   "outputs": [],
   "source": [
    "for i in range(len(loaded_data)):\n",
    "    diff = d1 - loaded_data[i][\"hotspot pattern\"]\n",
    "    somma = np.sum(np.abs(diff))\n",
    "    if np.abs(somma) < np.abs(summa):\n",
    "        summa = somma\n",
    "        ok = i"
   ]
  },
  {
   "cell_type": "markdown",
   "id": "7f92173d-aa78-4db3-8cee-3a73e09eac32",
   "metadata": {},
   "source": [
    "The important thing here is not the fitting process itself (I am sure there are way better methods) but it is important to note how to iterate on the data we have. The index i represents the index of the list, and for every instance in the list we extrapolate the hotspot pattern using a dictionary indexing."
   ]
  },
  {
   "cell_type": "markdown",
   "id": "5ac9ef08-522a-4e66-9580-9afe4372d29d",
   "metadata": {},
   "source": [
    "Now we have a good fitting, let's print the parameters that we found to be the fitting ones:"
   ]
  },
  {
   "cell_type": "code",
   "execution_count": 81,
   "id": "5bec1659-54f6-406f-a2e5-59e6eeb02e24",
   "metadata": {},
   "outputs": [
    {
     "name": "stdout",
     "output_type": "stream",
     "text": [
      "{'param1': 0.0, 'param2': -3.141592653589793, 'param3': 6.666666666666667, 'hotspot pattern': array([ 5.11139778e-07,  5.14039026e-99,  6.53067621e-99,  9.03755773e-99,\n",
      "        1.28160842e-98, -1.01884776e-21, -5.49023213e-22,  9.03039382e-22,\n",
      "        8.40281939e-23, -2.15763705e-21, -1.03129026e-21,  3.21937683e-06,\n",
      "        5.29200071e-05,  8.20201556e-04,  5.56714234e-03,  2.34144622e-02,\n",
      "        7.07298643e-02,  1.65877701e-01,  3.16017629e-01,  5.03144100e-01,\n",
      "        6.81893230e-01,  7.95220838e-01,  8.01894743e-01,  6.98226972e-01,\n",
      "        5.20480511e-01,  3.26008668e-01,  1.65640759e-01,  6.39431353e-02,\n",
      "        1.65206346e-02,  2.18022168e-03,  7.35891158e-05,  5.11139778e-07]), 'rotation inclination': 60.0, 'rotation azimuth': -67.5, 'magnetic colatitude': 60.0, 'shift': -3.141592653589793}\n"
     ]
    }
   ],
   "source": [
    "fit = loaded_data[ok]\n",
    "print(fit)"
   ]
  },
  {
   "cell_type": "markdown",
   "id": "54f4b411-1f2a-49dc-9a11-54bfbd9011ac",
   "metadata": {},
   "source": [
    "From the fitting dictionary we want to extrapolate the parameters, and to do so we just need the dictionary indexing, since the list indexing has been fixed with the fitting process (**ok** is the index we are interested into):"
   ]
  },
  {
   "cell_type": "code",
   "execution_count": 82,
   "id": "949a0ed1-4fb2-4ed2-80be-29fd001a99a5",
   "metadata": {},
   "outputs": [],
   "source": [
    "param1 = fit[\"param1\"]\n",
    "param2 = fit[\"param2\"]\n",
    "param3 = fit[\"param3\"]\n",
    "rot_i = fit[\"rotation inclination\"]\n",
    "rot_a = fit[\"rotation azimuth\"]\n",
    "magnc = fit[\"magnetic colatitude\"]\n",
    "shift = fit[\"shift\"]"
   ]
  },
  {
   "cell_type": "markdown",
   "id": "05e8c5aa-8772-4508-9812-637ef80bf644",
   "metadata": {},
   "source": [
    "I believe that this example is useful on how to read and use the data, strongly highlighting the fact that in order to handle the data one has to deal with a list of dictionaries, and having a clear vision of the keys is fundamental in order to utilize the values."
   ]
  },
  {
   "cell_type": "markdown",
   "id": "cb1550c8-580d-492d-9d86-ff38c9cadfa5",
   "metadata": {},
   "source": [
    "### Plotting and showing the fit"
   ]
  },
  {
   "cell_type": "markdown",
   "id": "7f211319-b548-436a-8fc1-0f84cb4dc567",
   "metadata": {},
   "source": [
    "This last point only shows the results as a fit, checking that the fit works with the given experimental data."
   ]
  },
  {
   "cell_type": "markdown",
   "id": "3f527d54-c07b-4e19-87df-c9881e315fb4",
   "metadata": {},
   "source": [
    "Let's create a linspaced x axis and plot both the fit and the data. I also want to print on the plot the parameters we have extrapolated before from the fitting dictionary, with a small description"
   ]
  },
  {
   "cell_type": "code",
   "execution_count": 83,
   "id": "c594aa71-dcf3-4895-b8e8-b0f582333f0a",
   "metadata": {},
   "outputs": [
    {
     "data": {
      "text/plain": [
       "Text(0.05, 0.95, '$param1$: 0.000000\\n$param2$: -3.141593\\n$param3:6.666667$\\nrotation inclination: 60.000000\\nrotation azimuth: -67.500000\\n$shift:-3.141593$')"
      ]
     },
     "execution_count": 83,
     "metadata": {},
     "output_type": "execute_result"
    },
    {
     "data": {
      "image/png": "[encoded data removed]",
      "text/plain": [
       "<Figure size 640x480 with 1 Axes>"
      ]
     },
     "metadata": {},
     "output_type": "display_data"
    }
   ],
   "source": [
    "x = np.linspace(0, 1, 32)\n",
    "plt.plot(x, fit[\"hotspot pattern\"])\n",
    "plt.plot(x, d1)\n",
    "textstr = '\\n'.join((\n",
    "        r'$param1$: %f' % (fit[\"param1\"]),\n",
    "        r'$param2$: %f' % (fit[\"param2\"]), r'$param3:%f$' % (fit[\"param3\"]),\n",
    "        r'rotation inclination: %f' % (fit[\"rotation inclination\"]),\n",
    "        r'rotation azimuth: %f' % (fit[\"rotation azimuth\"]), r'$shift:%f$' % (fit[\"shift\"])))\n",
    "\n",
    "plt.text(0.05, 0.95, textstr, transform=plt.gca().transAxes,\n",
    "             fontsize=8, verticalalignment='top', bbox=dict(facecolor='green', alpha=0.1))"
   ]
  },
  {
   "cell_type": "markdown",
   "id": "3404cf49-2e9a-48ba-85b2-7af0e30d3a8e",
   "metadata": {},
   "source": [
    "And finally show everything. The result I obtained, with 100000 data, is:"
   ]
  },
  {
   "attachments": {
    "8cafcb8f-fe38-4f18-b00b-cbfc6e9c11be.png": {
     "image/png": "[encoded data removed]"
    }
   },
   "cell_type": "markdown",
   "id": "be672418-da4e-4860-befc-2f78c79c3758",
   "metadata": {},
   "source": [
    "![fit_100000.png](attachment:8cafcb8f-fe38-4f18-b00b-cbfc6e9c11be.png)"
   ]
  }
 ],
 "metadata": {
  "kernelspec": {
   "display_name": "Python 3 (ipykernel)",
   "language": "python",
   "name": "python3"
  },
  "language_info": {
   "codemirror_mode": {
    "name": "ipython",
    "version": 3
   },
   "file_extension": ".py",
   "mimetype": "text/x-python",
   "name": "python",
   "nbconvert_exporter": "python",
   "pygments_lexer": "ipython3",
   "version": "3.11.7"
  }
 },
 "nbformat": 4,
 "nbformat_minor": 5
}
